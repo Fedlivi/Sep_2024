{
  "nbformat": 4,
  "nbformat_minor": 0,
  "metadata": {
    "colab": {
      "provenance": [],
      "authorship_tag": "ABX9TyPlZXdb4C/6NpgWapQ5/oJK",
      "include_colab_link": true
    },
    "kernelspec": {
      "name": "python3",
      "display_name": "Python 3"
    },
    "language_info": {
      "name": "python"
    }
  },
  "cells": [
    {
      "cell_type": "markdown",
      "metadata": {
        "id": "view-in-github",
        "colab_type": "text"
      },
      "source": [
        "<a href=\"https://colab.research.google.com/github/Fedlivi/Sep_2024/blob/main/App_1.ipynb\" target=\"_parent\"><img src=\"https://colab.research.google.com/assets/colab-badge.svg\" alt=\"Open In Colab\"/></a>"
      ]
    },
    {
      "cell_type": "code",
      "execution_count": null,
      "metadata": {
        "id": "yfRNeHOTuK22"
      },
      "outputs": [],
      "source": [
        "import streamlit as st\n",
        "st.write('# Calculadora stream')\n",
        "\n",
        "number_1= st.number_input('numero_1')\n",
        "number_2= st.number_input('numero_2')\n",
        "number_3=number_1+number_2\n",
        "\n",
        "st.write('#Resultado de la suma es', number_3)"
      ]
    }
  ]
}